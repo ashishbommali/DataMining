{
 "cells": [
  {
   "cell_type": "markdown",
   "metadata": {},
   "source": [
    "Part of the materials in this instruction notebook are adapted from \"Introduction to Machine Learning with Python\" by Andreas C. Mueller and Sarah Guido\n",
    "\n",
    "To run the examples in this notebook and to finish your assignment, you need a few Python modules. If you already have a Python installation set up, you can use pip to install all of these packages:\n",
    "\n",
    "$ pip install numpy matplotlib ipython jupyter scikit-learn pandas graphviz\n",
    "\n",
    "In your python code, you will always need to import a subset of the following modules. "
   ]
  },
  {
   "cell_type": "code",
   "execution_count": 3,
   "metadata": {},
   "outputs": [],
   "source": [
    "import numpy as np\n",
    "import pandas as pd\n",
    "import matplotlib.pyplot as plt\n",
    "import graphviz\n",
    "\n",
    "from IPython.display import display\n",
    "from sklearn.datasets import load_breast_cancer\n",
    "from sklearn.model_selection import train_test_split\n",
    "from sklearn.model_selection import cross_val_score\n",
    "from sklearn.neighbors import KNeighborsClassifier\n",
    "from sklearn.svm import LinearSVC\n",
    "from sklearn.naive_bayes import GaussianNB\n",
    "from sklearn.tree import export_graphviz"
   ]
  },
  {
   "cell_type": "markdown",
   "metadata": {
    "collapsed": true
   },
   "source": [
    "## The Breast Cancer Dataset"
   ]
  },
  {
   "cell_type": "markdown",
   "metadata": {},
   "source": [
    "The first dataset that we use in this notebook is included in scikit-learn, a popular machine learning library for Python. The dataset is the Wisconsin Breast Cancer dataset, which records clinical measurements of breast cancer tumors. Each tumor is labeled as “benign” (for harmless tumors) or “malignant” (for cancerous tumors), and the task is to learn to predict whether a tumor is malignant based on the measurements of the tissue.\n",
    "\n",
    "The data can be loaded using the load_breast_cancer function from scikit-learn:"
   ]
  },
  {
   "cell_type": "code",
   "execution_count": 4,
   "metadata": {},
   "outputs": [
    {
     "name": "stdout",
     "output_type": "stream",
     "text": [
      "cancer.keys(): dict_keys(['data', 'target', 'frame', 'target_names', 'DESCR', 'feature_names', 'filename', 'data_module'])\n"
     ]
    }
   ],
   "source": [
    "cancer = load_breast_cancer()\n",
    "print(\"cancer.keys(): {}\".format(cancer.keys()))"
   ]
  },
  {
   "cell_type": "markdown",
   "metadata": {},
   "source": [
    "Datasets that are included in scikit-learn are usually stored as Bunch objects, which contain some information about the dataset as well as the actual data. All you need to know about Bunch objects is that they behave like dictionaries, with the added benefit that you can access values using a dot (as in bunch.key instead of bunch['key'])."
   ]
  },
  {
   "cell_type": "markdown",
   "metadata": {},
   "source": [
    "The dataset consists of 569 data points, with 30 features each:"
   ]
  },
  {
   "cell_type": "code",
   "execution_count": 5,
   "metadata": {},
   "outputs": [
    {
     "name": "stdout",
     "output_type": "stream",
     "text": [
      "Shape of cancer data: (569, 30)\n"
     ]
    }
   ],
   "source": [
    "print(\"Shape of cancer data: {}\".format(cancer.data.shape))"
   ]
  },
  {
   "cell_type": "markdown",
   "metadata": {},
   "source": [
    "Of these 569 data points, 212 are labeled as malignant and 357 as benign:"
   ]
  },
  {
   "cell_type": "code",
   "execution_count": 6,
   "metadata": {},
   "outputs": [
    {
     "name": "stdout",
     "output_type": "stream",
     "text": [
      "Sample counts per class:\n",
      "{'malignant': 212, 'benign': 357}\n"
     ]
    }
   ],
   "source": [
    "print(\"Sample counts per class:\\n{}\".format(\n",
    "      {n: v for n, v in zip(cancer.target_names, np.bincount(cancer.target))}))"
   ]
  },
  {
   "cell_type": "markdown",
   "metadata": {},
   "source": [
    "To get a description of the semantic meaning of each feature, we can have a look at the feature_names attribute:"
   ]
  },
  {
   "cell_type": "code",
   "execution_count": 7,
   "metadata": {
    "scrolled": true
   },
   "outputs": [
    {
     "name": "stdout",
     "output_type": "stream",
     "text": [
      "Feature names:\n",
      "['mean radius' 'mean texture' 'mean perimeter' 'mean area'\n",
      " 'mean smoothness' 'mean compactness' 'mean concavity'\n",
      " 'mean concave points' 'mean symmetry' 'mean fractal dimension'\n",
      " 'radius error' 'texture error' 'perimeter error' 'area error'\n",
      " 'smoothness error' 'compactness error' 'concavity error'\n",
      " 'concave points error' 'symmetry error' 'fractal dimension error'\n",
      " 'worst radius' 'worst texture' 'worst perimeter' 'worst area'\n",
      " 'worst smoothness' 'worst compactness' 'worst concavity'\n",
      " 'worst concave points' 'worst symmetry' 'worst fractal dimension']\n"
     ]
    }
   ],
   "source": [
    "print(\"Feature names:\\n{}\".format(cancer.feature_names))"
   ]
  },
  {
   "cell_type": "markdown",
   "metadata": {},
   "source": [
    "Let's print out the names of the features (attributes) and the values in the target (class attribute), and the first 3 instances in the dataset. "
   ]
  },
  {
   "cell_type": "code",
   "execution_count": 8,
   "metadata": {},
   "outputs": [
    {
     "name": "stdout",
     "output_type": "stream",
     "text": [
      "['mean radius' 'mean texture' 'mean perimeter' 'mean area'\n",
      " 'mean smoothness' 'mean compactness' 'mean concavity'\n",
      " 'mean concave points' 'mean symmetry' 'mean fractal dimension'\n",
      " 'radius error' 'texture error' 'perimeter error' 'area error'\n",
      " 'smoothness error' 'compactness error' 'concavity error'\n",
      " 'concave points error' 'symmetry error' 'fractal dimension error'\n",
      " 'worst radius' 'worst texture' 'worst perimeter' 'worst area'\n",
      " 'worst smoothness' 'worst compactness' 'worst concavity'\n",
      " 'worst concave points' 'worst symmetry' 'worst fractal dimension'] ['malignant' 'benign']\n",
      "[1.799e+01 1.038e+01 1.228e+02 1.001e+03 1.184e-01 2.776e-01 3.001e-01\n",
      " 1.471e-01 2.419e-01 7.871e-02 1.095e+00 9.053e-01 8.589e+00 1.534e+02\n",
      " 6.399e-03 4.904e-02 5.373e-02 1.587e-02 3.003e-02 6.193e-03 2.538e+01\n",
      " 1.733e+01 1.846e+02 2.019e+03 1.622e-01 6.656e-01 7.119e-01 2.654e-01\n",
      " 4.601e-01 1.189e-01] 0\n",
      "[2.057e+01 1.777e+01 1.329e+02 1.326e+03 8.474e-02 7.864e-02 8.690e-02\n",
      " 7.017e-02 1.812e-01 5.667e-02 5.435e-01 7.339e-01 3.398e+00 7.408e+01\n",
      " 5.225e-03 1.308e-02 1.860e-02 1.340e-02 1.389e-02 3.532e-03 2.499e+01\n",
      " 2.341e+01 1.588e+02 1.956e+03 1.238e-01 1.866e-01 2.416e-01 1.860e-01\n",
      " 2.750e-01 8.902e-02] 0\n",
      "[1.969e+01 2.125e+01 1.300e+02 1.203e+03 1.096e-01 1.599e-01 1.974e-01\n",
      " 1.279e-01 2.069e-01 5.999e-02 7.456e-01 7.869e-01 4.585e+00 9.403e+01\n",
      " 6.150e-03 4.006e-02 3.832e-02 2.058e-02 2.250e-02 4.571e-03 2.357e+01\n",
      " 2.553e+01 1.525e+02 1.709e+03 1.444e-01 4.245e-01 4.504e-01 2.430e-01\n",
      " 3.613e-01 8.758e-02] 0\n"
     ]
    }
   ],
   "source": [
    "print(cancer.feature_names,cancer.target_names)\n",
    "for i in range(0,3):\n",
    "    print(cancer.data[i], cancer.target[i])"
   ]
  },
  {
   "cell_type": "markdown",
   "metadata": {},
   "source": [
    "You can find out more about the data by reading cancer.DESCR if you are interested."
   ]
  },
  {
   "cell_type": "markdown",
   "metadata": {},
   "source": [
    "## k-Nearest Neighbor\n",
    "#### k-Neighbors Classification"
   ]
  },
  {
   "cell_type": "markdown",
   "metadata": {},
   "source": [
    "Now let’s look at how we can apply the k-nearest neighbors algorithm using scikit-learn. First, we split our data into a training and a test set so we can evaluate generalization performance: "
   ]
  },
  {
   "cell_type": "code",
   "execution_count": 9,
   "metadata": {},
   "outputs": [],
   "source": [
    "train_feature, test_feature, train_class, test_class = train_test_split(\n",
    "    cancer.data, cancer.target, stratify=cancer.target, random_state=0)"
   ]
  },
  {
   "cell_type": "markdown",
   "metadata": {},
   "source": [
    "Note that this function randomly partitions the dataset into training and test sets. The randomness is controlled by a pseudo random number generator, which generates random numbers using a seed. If you fix the seed, you will actually always get the same partition (thus no randomness). That is why we set random_state=0. (We can also use any other fixed number instead of 0, to acheive the same effect.) It guarantees that you reproduce the same results in every run. It is useful in testing your programs. However, in your real production code where randomness is needed, you shouldn't fix random_state. "
   ]
  },
  {
   "cell_type": "markdown",
   "metadata": {},
   "source": [
    "Next, we instantiate the KNeighborsClassifier class. This is when we can set parameters, like the number of neighbors to use. Here, we set it to 3:"
   ]
  },
  {
   "cell_type": "code",
   "execution_count": 10,
   "metadata": {},
   "outputs": [],
   "source": [
    "knn = KNeighborsClassifier(n_neighbors=3)"
   ]
  },
  {
   "cell_type": "markdown",
   "metadata": {},
   "source": [
    "Now, we fit the classifier using the training set. For KNeighborsClassifier this means storing the dataset, so we can compute neighbors during prediction:"
   ]
  },
  {
   "cell_type": "code",
   "execution_count": 11,
   "metadata": {},
   "outputs": [
    {
     "data": {
      "text/html": [
       "<style>#sk-container-id-1 {color: black;}#sk-container-id-1 pre{padding: 0;}#sk-container-id-1 div.sk-toggleable {background-color: white;}#sk-container-id-1 label.sk-toggleable__label {cursor: pointer;display: block;width: 100%;margin-bottom: 0;padding: 0.3em;box-sizing: border-box;text-align: center;}#sk-container-id-1 label.sk-toggleable__label-arrow:before {content: \"▸\";float: left;margin-right: 0.25em;color: #696969;}#sk-container-id-1 label.sk-toggleable__label-arrow:hover:before {color: black;}#sk-container-id-1 div.sk-estimator:hover label.sk-toggleable__label-arrow:before {color: black;}#sk-container-id-1 div.sk-toggleable__content {max-height: 0;max-width: 0;overflow: hidden;text-align: left;background-color: #f0f8ff;}#sk-container-id-1 div.sk-toggleable__content pre {margin: 0.2em;color: black;border-radius: 0.25em;background-color: #f0f8ff;}#sk-container-id-1 input.sk-toggleable__control:checked~div.sk-toggleable__content {max-height: 200px;max-width: 100%;overflow: auto;}#sk-container-id-1 input.sk-toggleable__control:checked~label.sk-toggleable__label-arrow:before {content: \"▾\";}#sk-container-id-1 div.sk-estimator input.sk-toggleable__control:checked~label.sk-toggleable__label {background-color: #d4ebff;}#sk-container-id-1 div.sk-label input.sk-toggleable__control:checked~label.sk-toggleable__label {background-color: #d4ebff;}#sk-container-id-1 input.sk-hidden--visually {border: 0;clip: rect(1px 1px 1px 1px);clip: rect(1px, 1px, 1px, 1px);height: 1px;margin: -1px;overflow: hidden;padding: 0;position: absolute;width: 1px;}#sk-container-id-1 div.sk-estimator {font-family: monospace;background-color: #f0f8ff;border: 1px dotted black;border-radius: 0.25em;box-sizing: border-box;margin-bottom: 0.5em;}#sk-container-id-1 div.sk-estimator:hover {background-color: #d4ebff;}#sk-container-id-1 div.sk-parallel-item::after {content: \"\";width: 100%;border-bottom: 1px solid gray;flex-grow: 1;}#sk-container-id-1 div.sk-label:hover label.sk-toggleable__label {background-color: #d4ebff;}#sk-container-id-1 div.sk-serial::before {content: \"\";position: absolute;border-left: 1px solid gray;box-sizing: border-box;top: 0;bottom: 0;left: 50%;z-index: 0;}#sk-container-id-1 div.sk-serial {display: flex;flex-direction: column;align-items: center;background-color: white;padding-right: 0.2em;padding-left: 0.2em;position: relative;}#sk-container-id-1 div.sk-item {position: relative;z-index: 1;}#sk-container-id-1 div.sk-parallel {display: flex;align-items: stretch;justify-content: center;background-color: white;position: relative;}#sk-container-id-1 div.sk-item::before, #sk-container-id-1 div.sk-parallel-item::before {content: \"\";position: absolute;border-left: 1px solid gray;box-sizing: border-box;top: 0;bottom: 0;left: 50%;z-index: -1;}#sk-container-id-1 div.sk-parallel-item {display: flex;flex-direction: column;z-index: 1;position: relative;background-color: white;}#sk-container-id-1 div.sk-parallel-item:first-child::after {align-self: flex-end;width: 50%;}#sk-container-id-1 div.sk-parallel-item:last-child::after {align-self: flex-start;width: 50%;}#sk-container-id-1 div.sk-parallel-item:only-child::after {width: 0;}#sk-container-id-1 div.sk-dashed-wrapped {border: 1px dashed gray;margin: 0 0.4em 0.5em 0.4em;box-sizing: border-box;padding-bottom: 0.4em;background-color: white;}#sk-container-id-1 div.sk-label label {font-family: monospace;font-weight: bold;display: inline-block;line-height: 1.2em;}#sk-container-id-1 div.sk-label-container {text-align: center;}#sk-container-id-1 div.sk-container {/* jupyter's `normalize.less` sets `[hidden] { display: none; }` but bootstrap.min.css set `[hidden] { display: none !important; }` so we also need the `!important` here to be able to override the default hidden behavior on the sphinx rendered scikit-learn.org. See: https://github.com/scikit-learn/scikit-learn/issues/21755 */display: inline-block !important;position: relative;}#sk-container-id-1 div.sk-text-repr-fallback {display: none;}</style><div id=\"sk-container-id-1\" class=\"sk-top-container\"><div class=\"sk-text-repr-fallback\"><pre>KNeighborsClassifier(n_neighbors=3)</pre><b>In a Jupyter environment, please rerun this cell to show the HTML representation or trust the notebook. <br />On GitHub, the HTML representation is unable to render, please try loading this page with nbviewer.org.</b></div><div class=\"sk-container\" hidden><div class=\"sk-item\"><div class=\"sk-estimator sk-toggleable\"><input class=\"sk-toggleable__control sk-hidden--visually\" id=\"sk-estimator-id-1\" type=\"checkbox\" checked><label for=\"sk-estimator-id-1\" class=\"sk-toggleable__label sk-toggleable__label-arrow\">KNeighborsClassifier</label><div class=\"sk-toggleable__content\"><pre>KNeighborsClassifier(n_neighbors=3)</pre></div></div></div></div></div>"
      ],
      "text/plain": [
       "KNeighborsClassifier(n_neighbors=3)"
      ]
     },
     "execution_count": 11,
     "metadata": {},
     "output_type": "execute_result"
    }
   ],
   "source": [
    "knn.fit(train_feature, train_class)"
   ]
  },
  {
   "cell_type": "markdown",
   "metadata": {},
   "source": [
    "To make predictions on the test data, we call the predict method. For each data point in the test set, this computes its nearest neighbors in the training set and finds the most common class among these:"
   ]
  },
  {
   "cell_type": "code",
   "execution_count": 12,
   "metadata": {},
   "outputs": [
    {
     "name": "stdout",
     "output_type": "stream",
     "text": [
      "Test set predictions:\n",
      "[0 0 0 1 0 1 0 0 0 1 0 0 1 1 1 1 1 0 1 0 0 0 0 1 1 0 1 1 1 0 1 1 0 1 1 1 0\n",
      " 0 0 1 0 0 0 0 1 1 1 0 0 1 0 1 1 1 1 1 1 1 1 1 0 1 1 0 1 0 0 1 1 0 1 1 1 1\n",
      " 1 1 1 1 1 1 1 1 0 1 0 1 1 1 1 1 1 1 0 1 0 0 1 1 1 0 0 1 0 1 1 1 0 0 1 1 1\n",
      " 0 1 1 1 1 1 1 1 1 1 1 1 1 0 1 1 0 1 1 1 0 1 0 1 1 0 1 0 1 0 1 0]\n"
     ]
    }
   ],
   "source": [
    "print(\"Test set predictions:\\n{}\".format(knn.predict(test_feature)))"
   ]
  },
  {
   "cell_type": "markdown",
   "metadata": {},
   "source": [
    "To evaluate how well our model generalizes, we can call the score method with the test data together with the test labels:"
   ]
  },
  {
   "cell_type": "code",
   "execution_count": 13,
   "metadata": {},
   "outputs": [
    {
     "name": "stdout",
     "output_type": "stream",
     "text": [
      "Test set accuracy: 0.92\n"
     ]
    }
   ],
   "source": [
    "print(\"Test set accuracy: {:.2f}\".format(knn.score(test_feature, test_class)))"
   ]
  },
  {
   "cell_type": "markdown",
   "metadata": {},
   "source": [
    "We see that our model is about 92% accurate, meaning the model predicted the class correctly for 92% of the samples in the test dataset."
   ]
  },
  {
   "cell_type": "markdown",
   "metadata": {},
   "source": [
    "#### Analyzing KNeighborsClassifier"
   ]
  },
  {
   "cell_type": "markdown",
   "metadata": {},
   "source": [
    "Let’s investigate whether we can confirm the connection between model complexity and generalization. For that, we evaluate training and test set performance with different numbers of neighbors. "
   ]
  },
  {
   "cell_type": "code",
   "execution_count": 14,
   "metadata": {},
   "outputs": [
    {
     "data": {
      "image/png": "[encoded data removed]",
      "text/plain": [
       "<Figure size 640x480 with 1 Axes>"
      ]
     },
     "metadata": {},
     "output_type": "display_data"
    }
   ],
   "source": [
    "import matplotlib.pyplot as plt\n",
    "from sklearn.datasets import load_breast_cancer\n",
    "from sklearn.model_selection import train_test_split\n",
    "from sklearn.neighbors import KNeighborsClassifier\n",
    "\n",
    "cancer = load_breast_cancer()\n",
    "train_feature, test_feature, train_class, test_class = train_test_split(\n",
    "    cancer.data, cancer.target, stratify=cancer.target, random_state=0)\n",
    "\n",
    "training_accuracy = []\n",
    "test_accuracy = []\n",
    "# try n_neighbors from 1 to 10.\n",
    "neighbors_settings = range(1, 11)\n",
    "\n",
    "for n_neighbors in neighbors_settings:\n",
    "    # build the model\n",
    "    knn = KNeighborsClassifier(n_neighbors=n_neighbors)\n",
    "    knn.fit(train_feature, train_class)\n",
    "    # record training set accuracy\n",
    "    training_accuracy.append(knn.score(train_feature, train_class))\n",
    "    # record generalization accuracy\n",
    "    test_accuracy.append(knn.score(test_feature, test_class))\n",
    "    \n",
    "plt.plot(neighbors_settings, training_accuracy, label=\"training accuracy\")\n",
    "plt.plot(neighbors_settings, test_accuracy, label=\"test accuracy\")\n",
    "plt.ylabel(\"Accuracy\")\n",
    "plt.xlabel(\"n_neighbors\")\n",
    "plt.legend()\n",
    "plt.show()"
   ]
  },
  {
   "cell_type": "markdown",
   "metadata": {},
   "source": [
    "The plot shows the training and test set accuracy on the y-axis against the setting of n_neighbors on the x-axis. While real-world plots are rarely very smooth, we can still recognize some of the characteristics of overfitting and underfitting. Considering a single nearest neighbor, the prediction on the training set is perfect. But when more neighbors are considered, the model becomes simpler and the training accuracy drops. The test set accuracy for using a single neighbor is lower than when using more neighbors, indicating that using the single nearest neighbor leads to a model that is too complex. On the other hand, when considering 10 neighbors, the model is too simple and performance is even worse. (It is not a typo. Yes, using less neighbors leads to more complex models. Think carefully about this.) The best performance is somewhere in the middle, using around six neighbors. Still, it is good to keep the scale of the plot in mind. The worst performance is around 88% accuracy, which might still be acceptable."
   ]
  },
  {
   "cell_type": "markdown",
   "metadata": {},
   "source": [
    "## Linear Support Vector Machines"
   ]
  },
  {
   "cell_type": "markdown",
   "metadata": {},
   "source": [
    "Linear support vector machines (linear SVMs) is implemented in svm.LinearSVC. Let's apply it on the brest cancer dataset. "
   ]
  },
  {
   "cell_type": "code",
   "execution_count": 15,
   "metadata": {},
   "outputs": [
    {
     "name": "stdout",
     "output_type": "stream",
     "text": [
      "Test set score: 0.930\n"
     ]
    },
    {
     "name": "stderr",
     "output_type": "stream",
     "text": [
      "c:\\Python310\\lib\\site-packages\\sklearn\\svm\\_classes.py:32: FutureWarning: The default value of `dual` will change from `True` to `'auto'` in 1.5. Set the value of `dual` explicitly to suppress the warning.\n",
      "  warnings.warn(\n",
      "c:\\Python310\\lib\\site-packages\\sklearn\\svm\\_base.py:1250: ConvergenceWarning: Liblinear failed to converge, increase the number of iterations.\n",
      "  warnings.warn(\n"
     ]
    }
   ],
   "source": [
    "from sklearn.datasets import load_breast_cancer\n",
    "from sklearn.model_selection import train_test_split\n",
    "from sklearn.svm import LinearSVC\n",
    "\n",
    "cancer = load_breast_cancer()\n",
    "train_feature, test_feature, train_class, test_class = train_test_split(\n",
    "    cancer.data, cancer.target, stratify=cancer.target, random_state=0)\n",
    "\n",
    "linearsvm = LinearSVC(random_state=0).fit(train_feature, train_class)\n",
    "print(\"Test set score: {:.3f}\".format(linearsvm.score(test_feature, test_class)))"
   ]
  },
  {
   "cell_type": "markdown",
   "metadata": {},
   "source": [
    "## Naive Bayes Classifiers"
   ]
  },
  {
   "cell_type": "markdown",
   "metadata": {},
   "source": [
    "Naive Bayes classifiers are also implemented in scikit-learn. Since the features in the breast cancer dataset are all continuous numeric attributes, let's use GaussianNB. "
   ]
  },
  {
   "cell_type": "code",
   "execution_count": 16,
   "metadata": {},
   "outputs": [
    {
     "name": "stdout",
     "output_type": "stream",
     "text": [
      "Test set score: 0.923\n"
     ]
    }
   ],
   "source": [
    "from sklearn.datasets import load_breast_cancer\n",
    "from sklearn.model_selection import train_test_split\n",
    "from sklearn.naive_bayes import GaussianNB\n",
    "\n",
    "cancer = load_breast_cancer()\n",
    "train_feature, test_feature, train_class, test_class = train_test_split(\n",
    "    cancer.data, cancer.target, stratify=cancer.target, random_state=0)\n",
    "\n",
    "nb = GaussianNB().fit(train_feature, train_class)\n",
    "print(\"Test set score: {:.3f}\".format(nb.score(test_feature, test_class)))"
   ]
  },
  {
   "cell_type": "markdown",
   "metadata": {},
   "source": [
    "## Decision trees"
   ]
  },
  {
   "cell_type": "markdown",
   "metadata": {},
   "source": [
    "Decision trees are also implmented in scikit-learn. Let's use DecisionTreeClassifier. "
   ]
  },
  {
   "cell_type": "code",
   "execution_count": 17,
   "metadata": {
    "uuid": "6e5d7a76-9bba-42f7-b26e-907775d289b2"
   },
   "outputs": [
    {
     "name": "stdout",
     "output_type": "stream",
     "text": [
      "Training set score: 1.000\n",
      "Test set score: 0.937\n"
     ]
    }
   ],
   "source": [
    "from sklearn.datasets import load_breast_cancer\n",
    "from sklearn.model_selection import train_test_split\n",
    "from sklearn.tree import DecisionTreeClassifier\n",
    "\n",
    "cancer = load_breast_cancer()\n",
    "train_feature, test_feature, train_class, test_class = train_test_split(\n",
    "    cancer.data, cancer.target, stratify=cancer.target, random_state=42)\n",
    "\n",
    "tree = DecisionTreeClassifier(random_state=0)\n",
    "tree.fit(train_feature, train_class)\n",
    "print(\"Training set score: {:.3f}\".format(tree.score(train_feature, train_class)))\n",
    "print(\"Test set score: {:.3f}\".format(tree.score(test_feature, test_class)))"
   ]
  },
  {
   "cell_type": "markdown",
   "metadata": {},
   "source": [
    "If we don’t restrict the depth of a decision tree, the tree can become arbitrarily deep and complex. Unpruned trees are therefore prone to overfitting and not generalizing well to new data. Now let’s apply pre-pruning to the tree, which will stop developing the tree before we perfectly fit to the training data. One option is to stop building the tree after a certain depth has been reached. In the above code, we didn't set max_depth (i.e., max_depth= None,  which is the default value). Nodes are expanded until all leaves are pure or until all leaves contain less than min_samples_split instances (min_samples_split is another parameter in DecisionTreeClassifier). Now let's set max_depth=4, meaning only four consecutive questions can be asked. Limiting the depth of the tree decreases overfitting. This leads to a lower accuracy on the training set, but an improvement on the test set:"
   ]
  },
  {
   "cell_type": "code",
   "execution_count": 18,
   "metadata": {},
   "outputs": [
    {
     "name": "stdout",
     "output_type": "stream",
     "text": [
      "Training set score: 0.988\n",
      "Test set score: 0.951\n"
     ]
    }
   ],
   "source": [
    "from sklearn.datasets import load_breast_cancer\n",
    "from sklearn.model_selection import train_test_split\n",
    "from sklearn.tree import DecisionTreeClassifier\n",
    "\n",
    "cancer = load_breast_cancer()\n",
    "train_feature, test_feature, train_class, test_class = train_test_split(\n",
    "    cancer.data, cancer.target, stratify=cancer.target, random_state=42)\n",
    "\n",
    "tree = DecisionTreeClassifier(max_depth=4, random_state=0)\n",
    "tree.fit(train_feature, train_class)\n",
    "print(\"Training set score: {:.3f}\".format(tree.score(train_feature, train_class)))\n",
    "print(\"Test set score: {:.3f}\".format(tree.score(test_feature, test_class)))"
   ]
  },
  {
   "cell_type": "markdown",
   "metadata": {},
   "source": [
    "#### Analyzing Decision Trees"
   ]
  },
  {
   "cell_type": "markdown",
   "metadata": {},
   "source": [
    "We can visualize the tree using the export_graphviz function from the tree module. This writes a file in the .dot file format, which is a text file format for storing graphs. We set an option to color the nodes to reflect the majority class in each node and pass the class and features names so the tree can be properly labeled:"
   ]
  },
  {
   "cell_type": "code",
   "execution_count": 19,
   "metadata": {},
   "outputs": [],
   "source": [
    "from sklearn.tree import export_graphviz\n",
    "export_graphviz(tree, out_file=\"tree.dot\", class_names=[\"malignant\", \"benign\"],\n",
    "                feature_names=cancer.feature_names, impurity=False, filled=True)"
   ]
  },
  {
   "cell_type": "code",
   "execution_count": 20,
   "metadata": {},
   "outputs": [
    {
     "data": {
      "image/svg+xml": [
       "<?xml version=\"1.0\" encoding=\"UTF-8\" standalone=\"no\"?>\n",
       "<!DOCTYPE svg PUBLIC \"-//W3C//DTD SVG 1.1//EN\"\n",
       " \"http://www.w3.org/Graphics/SVG/1.1/DTD/svg11.dtd\">\n",
       "<!-- Generated by graphviz version 9.0.0 (20230911.1827)\n",
       " -->\n",
       "<!-- Title: Tree Pages: 1 -->\n",
       "<svg width=\"1124pt\" height=\"506pt\"\n",
       " viewBox=\"0.00 0.00 1124.12 505.50\" xmlns=\"http://www.w3.org/2000/svg\" xmlns:xlink=\"http://www.w3.org/1999/xlink\">\n",
       "<g id=\"graph0\" class=\"graph\" transform=\"scale(1 1) rotate(0) translate(4 501.5)\">\n",
       "<title>Tree</title>\n",
       "<polygon fill=\"white\" stroke=\"none\" points=\"-4,4 -4,-501.5 1120.12,-501.5 1120.12,4 -4,4\"/>\n",
       "<!-- 0 -->\n",
       "<g id=\"node1\" class=\"node\">\n",
       "<title>0</title>\n",
       "<polygon fill=\"#afd7f4\" stroke=\"black\" points=\"702.12,-497.5 541.38,-497.5 541.38,-423.5 702.12,-423.5 702.12,-497.5\"/>\n",
       "<text text-anchor=\"middle\" x=\"621.75\" y=\"-480.2\" font-family=\"Helvetica,sans-Serif\" font-size=\"14.00\">worst radius &lt;= 16.795</text>\n",
       "<text text-anchor=\"middle\" x=\"621.75\" y=\"-463.7\" font-family=\"Helvetica,sans-Serif\" font-size=\"14.00\">samples = 426</text>\n",
       "<text text-anchor=\"middle\" x=\"621.75\" y=\"-447.2\" font-family=\"Helvetica,sans-Serif\" font-size=\"14.00\">value = [159, 267]</text>\n",
       "<text text-anchor=\"middle\" x=\"621.75\" y=\"-430.7\" font-family=\"Helvetica,sans-Serif\" font-size=\"14.00\">class = benign</text>\n",
       "</g>\n",
       "<!-- 1 -->\n",
       "<g id=\"node2\" class=\"node\">\n",
       "<title>1</title>\n",
       "<polygon fill=\"#4ca6e8\" stroke=\"black\" points=\"604.5,-387.5 395,-387.5 395,-313.5 604.5,-313.5 604.5,-387.5\"/>\n",
       "<text text-anchor=\"middle\" x=\"499.75\" y=\"-370.2\" font-family=\"Helvetica,sans-Serif\" font-size=\"14.00\">worst concave points &lt;= 0.136</text>\n",
       "<text text-anchor=\"middle\" x=\"499.75\" y=\"-353.7\" font-family=\"Helvetica,sans-Serif\" font-size=\"14.00\">samples = 284</text>\n",
       "<text text-anchor=\"middle\" x=\"499.75\" y=\"-337.2\" font-family=\"Helvetica,sans-Serif\" font-size=\"14.00\">value = [25, 259]</text>\n",
       "<text text-anchor=\"middle\" x=\"499.75\" y=\"-320.7\" font-family=\"Helvetica,sans-Serif\" font-size=\"14.00\">class = benign</text>\n",
       "</g>\n",
       "<!-- 0&#45;&gt;1 -->\n",
       "<g id=\"edge1\" class=\"edge\">\n",
       "<title>0&#45;&gt;1</title>\n",
       "<path fill=\"none\" stroke=\"black\" d=\"M580.79,-423.24C570.73,-414.33 559.85,-404.7 549.43,-395.48\"/>\n",
       "<polygon fill=\"black\" stroke=\"black\" points=\"551.75,-392.86 541.95,-388.85 547.11,-398.1 551.75,-392.86\"/>\n",
       "<text text-anchor=\"middle\" x=\"542.33\" y=\"-407.75\" font-family=\"Helvetica,sans-Serif\" font-size=\"14.00\">True</text>\n",
       "</g>\n",
       "<!-- 14 -->\n",
       "<g id=\"node15\" class=\"node\">\n",
       "<title>14</title>\n",
       "<polygon fill=\"#e78945\" stroke=\"black\" points=\"787.38,-387.5 634.12,-387.5 634.12,-313.5 787.38,-313.5 787.38,-387.5\"/>\n",
       "<text text-anchor=\"middle\" x=\"710.75\" y=\"-370.2\" font-family=\"Helvetica,sans-Serif\" font-size=\"14.00\">texture error &lt;= 0.473</text>\n",
       "<text text-anchor=\"middle\" x=\"710.75\" y=\"-353.7\" font-family=\"Helvetica,sans-Serif\" font-size=\"14.00\">samples = 142</text>\n",
       "<text text-anchor=\"middle\" x=\"710.75\" y=\"-337.2\" font-family=\"Helvetica,sans-Serif\" font-size=\"14.00\">value = [134, 8]</text>\n",
       "<text text-anchor=\"middle\" x=\"710.75\" y=\"-320.7\" font-family=\"Helvetica,sans-Serif\" font-size=\"14.00\">class = malignant</text>\n",
       "</g>\n",
       "<!-- 0&#45;&gt;14 -->\n",
       "<g id=\"edge14\" class=\"edge\">\n",
       "<title>0&#45;&gt;14</title>\n",
       "<path fill=\"none\" stroke=\"black\" d=\"M651.63,-423.24C658.68,-414.69 666.27,-405.47 673.59,-396.59\"/>\n",
       "<polygon fill=\"black\" stroke=\"black\" points=\"676.17,-398.96 679.83,-389.02 670.77,-394.51 676.17,-398.96\"/>\n",
       "<text text-anchor=\"middle\" x=\"683.19\" y=\"-407.69\" font-family=\"Helvetica,sans-Serif\" font-size=\"14.00\">False</text>\n",
       "</g>\n",
       "<!-- 2 -->\n",
       "<g id=\"node3\" class=\"node\">\n",
       "<title>2</title>\n",
       "<polygon fill=\"#3c9fe5\" stroke=\"black\" points=\"386.12,-277.5 237.38,-277.5 237.38,-203.5 386.12,-203.5 386.12,-277.5\"/>\n",
       "<text text-anchor=\"middle\" x=\"311.75\" y=\"-260.2\" font-family=\"Helvetica,sans-Serif\" font-size=\"14.00\">radius error &lt;= 1.048</text>\n",
       "<text text-anchor=\"middle\" x=\"311.75\" y=\"-243.7\" font-family=\"Helvetica,sans-Serif\" font-size=\"14.00\">samples = 252</text>\n",
       "<text text-anchor=\"middle\" x=\"311.75\" y=\"-227.2\" font-family=\"Helvetica,sans-Serif\" font-size=\"14.00\">value = [4, 248]</text>\n",
       "<text text-anchor=\"middle\" x=\"311.75\" y=\"-210.7\" font-family=\"Helvetica,sans-Serif\" font-size=\"14.00\">class = benign</text>\n",
       "</g>\n",
       "<!-- 1&#45;&gt;2 -->\n",
       "<g id=\"edge2\" class=\"edge\">\n",
       "<title>1&#45;&gt;2</title>\n",
       "<path fill=\"none\" stroke=\"black\" d=\"M436.36,-313.09C419.88,-303.62 401.98,-293.34 385.03,-283.6\"/>\n",
       "<polygon fill=\"black\" stroke=\"black\" points=\"386.91,-280.64 376.49,-278.69 383.42,-286.71 386.91,-280.64\"/>\n",
       "</g>\n",
       "<!-- 7 -->\n",
       "<g id=\"node8\" class=\"node\">\n",
       "<title>7</title>\n",
       "<polygon fill=\"#f3c3a1\" stroke=\"black\" points=\"578.25,-277.5 421.25,-277.5 421.25,-203.5 578.25,-203.5 578.25,-277.5\"/>\n",
       "<text text-anchor=\"middle\" x=\"499.75\" y=\"-260.2\" font-family=\"Helvetica,sans-Serif\" font-size=\"14.00\">worst texture &lt;= 25.62</text>\n",
       "<text text-anchor=\"middle\" x=\"499.75\" y=\"-243.7\" font-family=\"Helvetica,sans-Serif\" font-size=\"14.00\">samples = 32</text>\n",
       "<text text-anchor=\"middle\" x=\"499.75\" y=\"-227.2\" font-family=\"Helvetica,sans-Serif\" font-size=\"14.00\">value = [21, 11]</text>\n",
       "<text text-anchor=\"middle\" x=\"499.75\" y=\"-210.7\" font-family=\"Helvetica,sans-Serif\" font-size=\"14.00\">class = malignant</text>\n",
       "</g>\n",
       "<!-- 1&#45;&gt;7 -->\n",
       "<g id=\"edge7\" class=\"edge\">\n",
       "<title>1&#45;&gt;7</title>\n",
       "<path fill=\"none\" stroke=\"black\" d=\"M499.75,-313.24C499.75,-305.49 499.75,-297.2 499.75,-289.1\"/>\n",
       "<polygon fill=\"black\" stroke=\"black\" points=\"503.25,-289.36 499.75,-279.36 496.25,-289.36 503.25,-289.36\"/>\n",
       "</g>\n",
       "<!-- 3 -->\n",
       "<g id=\"node4\" class=\"node\">\n",
       "<title>3</title>\n",
       "<polygon fill=\"#3b9ee5\" stroke=\"black\" points=\"231,-167.5 42.5,-167.5 42.5,-93.5 231,-93.5 231,-167.5\"/>\n",
       "<text text-anchor=\"middle\" x=\"136.75\" y=\"-150.2\" font-family=\"Helvetica,sans-Serif\" font-size=\"14.00\">smoothness error &lt;= 0.003</text>\n",
       "<text text-anchor=\"middle\" x=\"136.75\" y=\"-133.7\" font-family=\"Helvetica,sans-Serif\" font-size=\"14.00\">samples = 251</text>\n",
       "<text text-anchor=\"middle\" x=\"136.75\" y=\"-117.2\" font-family=\"Helvetica,sans-Serif\" font-size=\"14.00\">value = [3, 248]</text>\n",
       "<text text-anchor=\"middle\" x=\"136.75\" y=\"-100.7\" font-family=\"Helvetica,sans-Serif\" font-size=\"14.00\">class = benign</text>\n",
       "</g>\n",
       "<!-- 2&#45;&gt;3 -->\n",
       "<g id=\"edge3\" class=\"edge\">\n",
       "<title>2&#45;&gt;3</title>\n",
       "<path fill=\"none\" stroke=\"black\" d=\"M252.99,-203.24C237.7,-193.8 221.08,-183.55 205.33,-173.82\"/>\n",
       "<polygon fill=\"black\" stroke=\"black\" points=\"207.29,-170.92 196.94,-168.65 203.61,-176.88 207.29,-170.92\"/>\n",
       "</g>\n",
       "<!-- 6 -->\n",
       "<g id=\"node7\" class=\"node\">\n",
       "<title>6</title>\n",
       "<polygon fill=\"#e58139\" stroke=\"black\" points=\"374.12,-159.25 249.38,-159.25 249.38,-101.75 374.12,-101.75 374.12,-159.25\"/>\n",
       "<text text-anchor=\"middle\" x=\"311.75\" y=\"-141.95\" font-family=\"Helvetica,sans-Serif\" font-size=\"14.00\">samples = 1</text>\n",
       "<text text-anchor=\"middle\" x=\"311.75\" y=\"-125.45\" font-family=\"Helvetica,sans-Serif\" font-size=\"14.00\">value = [1, 0]</text>\n",
       "<text text-anchor=\"middle\" x=\"311.75\" y=\"-108.95\" font-family=\"Helvetica,sans-Serif\" font-size=\"14.00\">class = malignant</text>\n",
       "</g>\n",
       "<!-- 2&#45;&gt;6 -->\n",
       "<g id=\"edge6\" class=\"edge\">\n",
       "<title>2&#45;&gt;6</title>\n",
       "<path fill=\"none\" stroke=\"black\" d=\"M311.75,-203.24C311.75,-192.91 311.75,-181.6 311.75,-171.09\"/>\n",
       "<polygon fill=\"black\" stroke=\"black\" points=\"315.25,-171.16 311.75,-161.16 308.25,-171.16 315.25,-171.16\"/>\n",
       "</g>\n",
       "<!-- 4 -->\n",
       "<g id=\"node5\" class=\"node\">\n",
       "<title>4</title>\n",
       "<polygon fill=\"#7bbeee\" stroke=\"black\" points=\"107.5,-57.5 0,-57.5 0,0 107.5,0 107.5,-57.5\"/>\n",
       "<text text-anchor=\"middle\" x=\"53.75\" y=\"-40.2\" font-family=\"Helvetica,sans-Serif\" font-size=\"14.00\">samples = 4</text>\n",
       "<text text-anchor=\"middle\" x=\"53.75\" y=\"-23.7\" font-family=\"Helvetica,sans-Serif\" font-size=\"14.00\">value = [1, 3]</text>\n",
       "<text text-anchor=\"middle\" x=\"53.75\" y=\"-7.2\" font-family=\"Helvetica,sans-Serif\" font-size=\"14.00\">class = benign</text>\n",
       "</g>\n",
       "<!-- 3&#45;&gt;4 -->\n",
       "<g id=\"edge4\" class=\"edge\">\n",
       "<title>3&#45;&gt;4</title>\n",
       "<path fill=\"none\" stroke=\"black\" d=\"M106.55,-93.21C99.33,-84.52 91.61,-75.25 84.36,-66.54\"/>\n",
       "<polygon fill=\"black\" stroke=\"black\" points=\"87.08,-64.34 78,-58.89 81.7,-68.82 87.08,-64.34\"/>\n",
       "</g>\n",
       "<!-- 5 -->\n",
       "<g id=\"node6\" class=\"node\">\n",
       "<title>5</title>\n",
       "<polygon fill=\"#3b9ee5\" stroke=\"black\" points=\"238.12,-57.5 125.38,-57.5 125.38,0 238.12,0 238.12,-57.5\"/>\n",
       "<text text-anchor=\"middle\" x=\"181.75\" y=\"-40.2\" font-family=\"Helvetica,sans-Serif\" font-size=\"14.00\">samples = 247</text>\n",
       "<text text-anchor=\"middle\" x=\"181.75\" y=\"-23.7\" font-family=\"Helvetica,sans-Serif\" font-size=\"14.00\">value = [2, 245]</text>\n",
       "<text text-anchor=\"middle\" x=\"181.75\" y=\"-7.2\" font-family=\"Helvetica,sans-Serif\" font-size=\"14.00\">class = benign</text>\n",
       "</g>\n",
       "<!-- 3&#45;&gt;5 -->\n",
       "<g id=\"edge5\" class=\"edge\">\n",
       "<title>3&#45;&gt;5</title>\n",
       "<path fill=\"none\" stroke=\"black\" d=\"M153.12,-93.21C156.79,-85.07 160.7,-76.42 164.4,-68.2\"/>\n",
       "<polygon fill=\"black\" stroke=\"black\" points=\"167.58,-69.66 168.51,-59.11 161.2,-66.78 167.58,-69.66\"/>\n",
       "</g>\n",
       "<!-- 8 -->\n",
       "<g id=\"node9\" class=\"node\">\n",
       "<title>8</title>\n",
       "<polygon fill=\"#7bbeee\" stroke=\"black\" points=\"584.88,-167.5 392.62,-167.5 392.62,-93.5 584.88,-93.5 584.88,-167.5\"/>\n",
       "<text text-anchor=\"middle\" x=\"488.75\" y=\"-150.2\" font-family=\"Helvetica,sans-Serif\" font-size=\"14.00\">worst smoothness &lt;= 0.179</text>\n",
       "<text text-anchor=\"middle\" x=\"488.75\" y=\"-133.7\" font-family=\"Helvetica,sans-Serif\" font-size=\"14.00\">samples = 12</text>\n",
       "<text text-anchor=\"middle\" x=\"488.75\" y=\"-117.2\" font-family=\"Helvetica,sans-Serif\" font-size=\"14.00\">value = [3, 9]</text>\n",
       "<text text-anchor=\"middle\" x=\"488.75\" y=\"-100.7\" font-family=\"Helvetica,sans-Serif\" font-size=\"14.00\">class = benign</text>\n",
       "</g>\n",
       "<!-- 7&#45;&gt;8 -->\n",
       "<g id=\"edge8\" class=\"edge\">\n",
       "<title>7&#45;&gt;8</title>\n",
       "<path fill=\"none\" stroke=\"black\" d=\"M496.06,-203.24C495.27,-195.49 494.42,-187.2 493.6,-179.1\"/>\n",
       "<polygon fill=\"black\" stroke=\"black\" points=\"497.1,-178.95 492.61,-169.36 490.14,-179.66 497.1,-178.95\"/>\n",
       "</g>\n",
       "<!-- 11 -->\n",
       "<g id=\"node12\" class=\"node\">\n",
       "<title>11</title>\n",
       "<polygon fill=\"#e88f4f\" stroke=\"black\" points=\"778.62,-167.5 602.88,-167.5 602.88,-93.5 778.62,-93.5 778.62,-167.5\"/>\n",
       "<text text-anchor=\"middle\" x=\"690.75\" y=\"-150.2\" font-family=\"Helvetica,sans-Serif\" font-size=\"14.00\">worst symmetry &lt;= 0.268</text>\n",
       "<text text-anchor=\"middle\" x=\"690.75\" y=\"-133.7\" font-family=\"Helvetica,sans-Serif\" font-size=\"14.00\">samples = 20</text>\n",
       "<text text-anchor=\"middle\" x=\"690.75\" y=\"-117.2\" font-family=\"Helvetica,sans-Serif\" font-size=\"14.00\">value = [18, 2]</text>\n",
       "<text text-anchor=\"middle\" x=\"690.75\" y=\"-100.7\" font-family=\"Helvetica,sans-Serif\" font-size=\"14.00\">class = malignant</text>\n",
       "</g>\n",
       "<!-- 7&#45;&gt;11 -->\n",
       "<g id=\"edge11\" class=\"edge\">\n",
       "<title>7&#45;&gt;11</title>\n",
       "<path fill=\"none\" stroke=\"black\" d=\"M564.15,-203.09C580.9,-193.62 599.08,-183.34 616.3,-173.6\"/>\n",
       "<polygon fill=\"black\" stroke=\"black\" points=\"618.01,-176.65 624.99,-168.68 614.56,-170.56 618.01,-176.65\"/>\n",
       "</g>\n",
       "<!-- 9 -->\n",
       "<g id=\"node10\" class=\"node\">\n",
       "<title>9</title>\n",
       "<polygon fill=\"#4fa8e8\" stroke=\"black\" points=\"408.5,-57.5 301,-57.5 301,0 408.5,0 408.5,-57.5\"/>\n",
       "<text text-anchor=\"middle\" x=\"354.75\" y=\"-40.2\" font-family=\"Helvetica,sans-Serif\" font-size=\"14.00\">samples = 10</text>\n",
       "<text text-anchor=\"middle\" x=\"354.75\" y=\"-23.7\" font-family=\"Helvetica,sans-Serif\" font-size=\"14.00\">value = [1, 9]</text>\n",
       "<text text-anchor=\"middle\" x=\"354.75\" y=\"-7.2\" font-family=\"Helvetica,sans-Serif\" font-size=\"14.00\">class = benign</text>\n",
       "</g>\n",
       "<!-- 8&#45;&gt;9 -->\n",
       "<g id=\"edge9\" class=\"edge\">\n",
       "<title>8&#45;&gt;9</title>\n",
       "<path fill=\"none\" stroke=\"black\" d=\"M439.99,-93.21C427.35,-83.79 413.76,-73.68 401.24,-64.36\"/>\n",
       "<polygon fill=\"black\" stroke=\"black\" points=\"403.66,-61.8 393.55,-58.63 399.48,-67.41 403.66,-61.8\"/>\n",
       "</g>\n",
       "<!-- 10 -->\n",
       "<g id=\"node11\" class=\"node\">\n",
       "<title>10</title>\n",
       "<polygon fill=\"#e58139\" stroke=\"black\" points=\"551.12,-57.5 426.38,-57.5 426.38,0 551.12,0 551.12,-57.5\"/>\n",
       "<text text-anchor=\"middle\" x=\"488.75\" y=\"-40.2\" font-family=\"Helvetica,sans-Serif\" font-size=\"14.00\">samples = 2</text>\n",
       "<text text-anchor=\"middle\" x=\"488.75\" y=\"-23.7\" font-family=\"Helvetica,sans-Serif\" font-size=\"14.00\">value = [2, 0]</text>\n",
       "<text text-anchor=\"middle\" x=\"488.75\" y=\"-7.2\" font-family=\"Helvetica,sans-Serif\" font-size=\"14.00\">class = malignant</text>\n",
       "</g>\n",
       "<!-- 8&#45;&gt;10 -->\n",
       "<g id=\"edge10\" class=\"edge\">\n",
       "<title>8&#45;&gt;10</title>\n",
       "<path fill=\"none\" stroke=\"black\" d=\"M488.75,-93.21C488.75,-85.35 488.75,-77 488.75,-69.03\"/>\n",
       "<polygon fill=\"black\" stroke=\"black\" points=\"492.25,-69.24 488.75,-59.24 485.25,-69.24 492.25,-69.24\"/>\n",
       "</g>\n",
       "<!-- 12 -->\n",
       "<g id=\"node13\" class=\"node\">\n",
       "<title>12</title>\n",
       "<polygon fill=\"#9ccef2\" stroke=\"black\" points=\"676.5,-57.5 569,-57.5 569,0 676.5,0 676.5,-57.5\"/>\n",
       "<text text-anchor=\"middle\" x=\"622.75\" y=\"-40.2\" font-family=\"Helvetica,sans-Serif\" font-size=\"14.00\">samples = 3</text>\n",
       "<text text-anchor=\"middle\" x=\"622.75\" y=\"-23.7\" font-family=\"Helvetica,sans-Serif\" font-size=\"14.00\">value = [1, 2]</text>\n",
       "<text text-anchor=\"middle\" x=\"622.75\" y=\"-7.2\" font-family=\"Helvetica,sans-Serif\" font-size=\"14.00\">class = benign</text>\n",
       "</g>\n",
       "<!-- 11&#45;&gt;12 -->\n",
       "<g id=\"edge12\" class=\"edge\">\n",
       "<title>11&#45;&gt;12</title>\n",
       "<path fill=\"none\" stroke=\"black\" d=\"M666.01,-93.21C660.21,-84.71 654.03,-75.64 648.21,-67.09\"/>\n",
       "<polygon fill=\"black\" stroke=\"black\" points=\"651.2,-65.27 642.68,-58.98 645.42,-69.21 651.2,-65.27\"/>\n",
       "</g>\n",
       "<!-- 13 -->\n",
       "<g id=\"node14\" class=\"node\">\n",
       "<title>13</title>\n",
       "<polygon fill=\"#e58139\" stroke=\"black\" points=\"819.12,-57.5 694.38,-57.5 694.38,0 819.12,0 819.12,-57.5\"/>\n",
       "<text text-anchor=\"middle\" x=\"756.75\" y=\"-40.2\" font-family=\"Helvetica,sans-Serif\" font-size=\"14.00\">samples = 17</text>\n",
       "<text text-anchor=\"middle\" x=\"756.75\" y=\"-23.7\" font-family=\"Helvetica,sans-Serif\" font-size=\"14.00\">value = [17, 0]</text>\n",
       "<text text-anchor=\"middle\" x=\"756.75\" y=\"-7.2\" font-family=\"Helvetica,sans-Serif\" font-size=\"14.00\">class = malignant</text>\n",
       "</g>\n",
       "<!-- 11&#45;&gt;13 -->\n",
       "<g id=\"edge13\" class=\"edge\">\n",
       "<title>11&#45;&gt;13</title>\n",
       "<path fill=\"none\" stroke=\"black\" d=\"M714.76,-93.21C720.39,-84.71 726.39,-75.64 732.04,-67.09\"/>\n",
       "<polygon fill=\"black\" stroke=\"black\" points=\"734.8,-69.26 737.4,-58.99 728.97,-65.4 734.8,-69.26\"/>\n",
       "</g>\n",
       "<!-- 15 -->\n",
       "<g id=\"node16\" class=\"node\">\n",
       "<title>15</title>\n",
       "<polygon fill=\"#399de5\" stroke=\"black\" points=\"764.5,-269.25 657,-269.25 657,-211.75 764.5,-211.75 764.5,-269.25\"/>\n",
       "<text text-anchor=\"middle\" x=\"710.75\" y=\"-251.95\" font-family=\"Helvetica,sans-Serif\" font-size=\"14.00\">samples = 5</text>\n",
       "<text text-anchor=\"middle\" x=\"710.75\" y=\"-235.45\" font-family=\"Helvetica,sans-Serif\" font-size=\"14.00\">value = [0, 5]</text>\n",
       "<text text-anchor=\"middle\" x=\"710.75\" y=\"-218.95\" font-family=\"Helvetica,sans-Serif\" font-size=\"14.00\">class = benign</text>\n",
       "</g>\n",
       "<!-- 14&#45;&gt;15 -->\n",
       "<g id=\"edge15\" class=\"edge\">\n",
       "<title>14&#45;&gt;15</title>\n",
       "<path fill=\"none\" stroke=\"black\" d=\"M710.75,-313.24C710.75,-302.91 710.75,-291.6 710.75,-281.09\"/>\n",
       "<polygon fill=\"black\" stroke=\"black\" points=\"714.25,-281.16 710.75,-271.16 707.25,-281.16 714.25,-281.16\"/>\n",
       "</g>\n",
       "<!-- 16 -->\n",
       "<g id=\"node17\" class=\"node\">\n",
       "<title>16</title>\n",
       "<polygon fill=\"#e6843d\" stroke=\"black\" points=\"977.12,-277.5 804.38,-277.5 804.38,-203.5 977.12,-203.5 977.12,-277.5\"/>\n",
       "<text text-anchor=\"middle\" x=\"890.75\" y=\"-260.2\" font-family=\"Helvetica,sans-Serif\" font-size=\"14.00\">worst concavity &lt;= 0.191</text>\n",
       "<text text-anchor=\"middle\" x=\"890.75\" y=\"-243.7\" font-family=\"Helvetica,sans-Serif\" font-size=\"14.00\">samples = 137</text>\n",
       "<text text-anchor=\"middle\" x=\"890.75\" y=\"-227.2\" font-family=\"Helvetica,sans-Serif\" font-size=\"14.00\">value = [134, 3]</text>\n",
       "<text text-anchor=\"middle\" x=\"890.75\" y=\"-210.7\" font-family=\"Helvetica,sans-Serif\" font-size=\"14.00\">class = malignant</text>\n",
       "</g>\n",
       "<!-- 14&#45;&gt;16 -->\n",
       "<g id=\"edge16\" class=\"edge\">\n",
       "<title>14&#45;&gt;16</title>\n",
       "<path fill=\"none\" stroke=\"black\" d=\"M771.44,-313.09C787.22,-303.62 804.36,-293.34 820.59,-283.6\"/>\n",
       "<polygon fill=\"black\" stroke=\"black\" points=\"821.95,-286.86 828.72,-278.72 818.34,-280.86 821.95,-286.86\"/>\n",
       "</g>\n",
       "<!-- 17 -->\n",
       "<g id=\"node18\" class=\"node\">\n",
       "<title>17</title>\n",
       "<polygon fill=\"#bddef6\" stroke=\"black\" points=\"973.38,-167.5 808.12,-167.5 808.12,-93.5 973.38,-93.5 973.38,-167.5\"/>\n",
       "<text text-anchor=\"middle\" x=\"890.75\" y=\"-150.2\" font-family=\"Helvetica,sans-Serif\" font-size=\"14.00\">worst texture &lt;= 30.975</text>\n",
       "<text text-anchor=\"middle\" x=\"890.75\" y=\"-133.7\" font-family=\"Helvetica,sans-Serif\" font-size=\"14.00\">samples = 5</text>\n",
       "<text text-anchor=\"middle\" x=\"890.75\" y=\"-117.2\" font-family=\"Helvetica,sans-Serif\" font-size=\"14.00\">value = [2, 3]</text>\n",
       "<text text-anchor=\"middle\" x=\"890.75\" y=\"-100.7\" font-family=\"Helvetica,sans-Serif\" font-size=\"14.00\">class = benign</text>\n",
       "</g>\n",
       "<!-- 16&#45;&gt;17 -->\n",
       "<g id=\"edge17\" class=\"edge\">\n",
       "<title>16&#45;&gt;17</title>\n",
       "<path fill=\"none\" stroke=\"black\" d=\"M890.75,-203.24C890.75,-195.49 890.75,-187.2 890.75,-179.1\"/>\n",
       "<polygon fill=\"black\" stroke=\"black\" points=\"894.25,-179.36 890.75,-169.36 887.25,-179.36 894.25,-179.36\"/>\n",
       "</g>\n",
       "<!-- 20 -->\n",
       "<g id=\"node21\" class=\"node\">\n",
       "<title>20</title>\n",
       "<polygon fill=\"#e58139\" stroke=\"black\" points=\"1116.12,-159.25 991.38,-159.25 991.38,-101.75 1116.12,-101.75 1116.12,-159.25\"/>\n",
       "<text text-anchor=\"middle\" x=\"1053.75\" y=\"-141.95\" font-family=\"Helvetica,sans-Serif\" font-size=\"14.00\">samples = 132</text>\n",
       "<text text-anchor=\"middle\" x=\"1053.75\" y=\"-125.45\" font-family=\"Helvetica,sans-Serif\" font-size=\"14.00\">value = [132, 0]</text>\n",
       "<text text-anchor=\"middle\" x=\"1053.75\" y=\"-108.95\" font-family=\"Helvetica,sans-Serif\" font-size=\"14.00\">class = malignant</text>\n",
       "</g>\n",
       "<!-- 16&#45;&gt;20 -->\n",
       "<g id=\"edge20\" class=\"edge\">\n",
       "<title>16&#45;&gt;20</title>\n",
       "<path fill=\"none\" stroke=\"black\" d=\"M945.48,-203.24C963.75,-191.13 984.04,-177.69 1002.08,-165.74\"/>\n",
       "<polygon fill=\"black\" stroke=\"black\" points=\"1003.61,-168.92 1010.01,-160.48 999.74,-163.08 1003.61,-168.92\"/>\n",
       "</g>\n",
       "<!-- 18 -->\n",
       "<g id=\"node19\" class=\"node\">\n",
       "<title>18</title>\n",
       "<polygon fill=\"#399de5\" stroke=\"black\" points=\"944.5,-57.5 837,-57.5 837,0 944.5,0 944.5,-57.5\"/>\n",
       "<text text-anchor=\"middle\" x=\"890.75\" y=\"-40.2\" font-family=\"Helvetica,sans-Serif\" font-size=\"14.00\">samples = 3</text>\n",
       "<text text-anchor=\"middle\" x=\"890.75\" y=\"-23.7\" font-family=\"Helvetica,sans-Serif\" font-size=\"14.00\">value = [0, 3]</text>\n",
       "<text text-anchor=\"middle\" x=\"890.75\" y=\"-7.2\" font-family=\"Helvetica,sans-Serif\" font-size=\"14.00\">class = benign</text>\n",
       "</g>\n",
       "<!-- 17&#45;&gt;18 -->\n",
       "<g id=\"edge18\" class=\"edge\">\n",
       "<title>17&#45;&gt;18</title>\n",
       "<path fill=\"none\" stroke=\"black\" d=\"M890.75,-93.21C890.75,-85.35 890.75,-77 890.75,-69.03\"/>\n",
       "<polygon fill=\"black\" stroke=\"black\" points=\"894.25,-69.24 890.75,-59.24 887.25,-69.24 894.25,-69.24\"/>\n",
       "</g>\n",
       "<!-- 19 -->\n",
       "<g id=\"node20\" class=\"node\">\n",
       "<title>19</title>\n",
       "<polygon fill=\"#e58139\" stroke=\"black\" points=\"1087.12,-57.5 962.38,-57.5 962.38,0 1087.12,0 1087.12,-57.5\"/>\n",
       "<text text-anchor=\"middle\" x=\"1024.75\" y=\"-40.2\" font-family=\"Helvetica,sans-Serif\" font-size=\"14.00\">samples = 2</text>\n",
       "<text text-anchor=\"middle\" x=\"1024.75\" y=\"-23.7\" font-family=\"Helvetica,sans-Serif\" font-size=\"14.00\">value = [2, 0]</text>\n",
       "<text text-anchor=\"middle\" x=\"1024.75\" y=\"-7.2\" font-family=\"Helvetica,sans-Serif\" font-size=\"14.00\">class = malignant</text>\n",
       "</g>\n",
       "<!-- 17&#45;&gt;19 -->\n",
       "<g id=\"edge19\" class=\"edge\">\n",
       "<title>17&#45;&gt;19</title>\n",
       "<path fill=\"none\" stroke=\"black\" d=\"M939.51,-93.21C952.15,-83.79 965.74,-73.68 978.26,-64.36\"/>\n",
       "<polygon fill=\"black\" stroke=\"black\" points=\"980.02,-67.41 985.95,-58.63 975.84,-61.8 980.02,-67.41\"/>\n",
       "</g>\n",
       "</g>\n",
       "</svg>\n"
      ],
      "text/plain": [
       "<graphviz.sources.Source at 0x12de1502dd0>"
      ]
     },
     "metadata": {},
     "output_type": "display_data"
    }
   ],
   "source": [
    "import graphviz\n",
    "from IPython.display import display\n",
    "\n",
    "with open(\"tree.dot\") as f:\n",
    "    dot_graph = f.read()\n",
    "display(graphviz.Source(dot_graph))"
   ]
  },
  {
   "cell_type": "markdown",
   "metadata": {},
   "source": [
    "#### Feature Importance in trees"
   ]
  },
  {
   "cell_type": "markdown",
   "metadata": {},
   "source": [
    "Instead of looking at the whole tree, there are some useful properties that we can derive to summarize the workings of the tree. The most commonly used summary is feature importance, which rates how important each feature is for the decision a tree makes. It is a number between 0 and 1 for each feature, where 0 means “not used at all” and 1 means “perfectly predicts the target.” The feature importances always sum to 1:"
   ]
  },
  {
   "cell_type": "code",
   "execution_count": 21,
   "metadata": {
    "uuid": "dc2f68ee-0df0-47ed-b500-7ec99d5a0a5d"
   },
   "outputs": [
    {
     "name": "stdout",
     "output_type": "stream",
     "text": [
      "Feature importances:\n",
      "[0.         0.         0.         0.         0.         0.\n",
      " 0.         0.         0.         0.         0.01019737 0.04839825\n",
      " 0.         0.         0.0024156  0.         0.         0.\n",
      " 0.         0.         0.72682851 0.0458159  0.         0.\n",
      " 0.0141577  0.         0.018188   0.1221132  0.01188548 0.        ]\n"
     ]
    }
   ],
   "source": [
    "print(\"Feature importances:\\n{}\".format(tree.feature_importances_))"
   ]
  },
  {
   "cell_type": "markdown",
   "metadata": {},
   "source": [
    "## Model Evaluation"
   ]
  },
  {
   "cell_type": "markdown",
   "metadata": {},
   "source": [
    "To evaluate our supervised models, so far we have split our dataset into a training set and a test set using the train_test_split function, built a model on the training set by calling the fit method, and evaluated it on the test set using the score method, which for classification computes the fraction of correctly classified samples. "
   ]
  },
  {
   "cell_type": "markdown",
   "metadata": {},
   "source": [
    "## Confusion Matrix"
   ]
  },
  {
   "cell_type": "markdown",
   "metadata": {},
   "source": [
    "scikit-learn has its own function for producing confusion matrix. But, let's use pandas which is a popular Python package for data analysis. Its crosstab function produces a better-looking confusion matrix. "
   ]
  },
  {
   "cell_type": "code",
   "execution_count": 22,
   "metadata": {},
   "outputs": [
    {
     "name": "stdout",
     "output_type": "stream",
     "text": [
      "Training set score: 0.988\n",
      "Test set score: 0.951\n",
      "Confusion matrix:\n",
      "Predicted   0   1  All\n",
      "True                  \n",
      "0          49   4   53\n",
      "1           3  87   90\n",
      "All        52  91  143\n"
     ]
    }
   ],
   "source": [
    "import pandas as pd\n",
    "\n",
    "from sklearn.datasets import load_breast_cancer\n",
    "from sklearn.model_selection import train_test_split\n",
    "from sklearn.tree import DecisionTreeClassifier\n",
    "\n",
    "cancer = load_breast_cancer()\n",
    "train_feature, test_feature, train_class, test_class = train_test_split(\n",
    "    cancer.data, cancer.target, stratify=cancer.target, random_state=42)\n",
    "\n",
    "tree = DecisionTreeClassifier(max_depth=4, random_state=0)\n",
    "tree.fit(train_feature, train_class)\n",
    "print(\"Training set score: {:.3f}\".format(tree.score(train_feature, train_class)))\n",
    "print(\"Test set score: {:.3f}\".format(tree.score(test_feature, test_class)))\n",
    "\n",
    "prediction = tree.predict(test_feature)\n",
    "print(\"Confusion matrix:\")\n",
    "print(pd.crosstab(test_class, prediction, rownames=['True'], colnames=['Predicted'], margins=True))"
   ]
  },
  {
   "cell_type": "markdown",
   "metadata": {},
   "source": [
    "## Cross-Validation"
   ]
  },
  {
   "cell_type": "markdown",
   "metadata": {},
   "source": [
    "The reason we split our data into training and test sets is that we are interested in measuring how well our model generalizes to new, previously unseen data. We are not interested in how well our model fit the training set, but rather in how well it can make predictions for data that was not observed during training.\n",
    " \n",
    "Cross-validation is a statistical method of evaluating generalization performance that is more stable and thorough than using a split into a training and a test set. Cross-validation is implemented in scikit-learn using the cross_val_score function from the model_selection module. The parameters of the cross_val_score function are the model we want to evaluate, the training data, and the ground-truth labels. Let’s evaluate DecisionTreeClassifier on the breast cancer dataset. We can control the number of folds used by setting the cv parameter. We also summarize the cross-validation accuracy by computing the mean accuracy of the multiple folds. \n",
    "\n",
    "scikit-learn uses stratified k-fold cross-validation for classification. In stratified cross-validation, we split the data such that the proportions between classes are the same in each fold as they are in the whole dataset. "
   ]
  },
  {
   "cell_type": "code",
   "execution_count": 23,
   "metadata": {},
   "outputs": [
    {
     "name": "stdout",
     "output_type": "stream",
     "text": [
      "Cross-validation scores: [0.92105263 0.88596491 0.93859649 0.92982456 0.90265487]\n",
      "Average cross-validation score: 0.92\n"
     ]
    }
   ],
   "source": [
    "from sklearn.model_selection import cross_val_score\n",
    "from sklearn.datasets import load_breast_cancer\n",
    "from sklearn.tree import DecisionTreeClassifier\n",
    "\n",
    "cancer = load_breast_cancer()\n",
    "tree = DecisionTreeClassifier(max_depth=4, random_state=0)\n",
    "scores = cross_val_score(tree, cancer.data, cancer.target, cv=5)\n",
    "print(\"Cross-validation scores: {}\".format(scores))\n",
    "print(\"Average cross-validation score: {:.2f}\".format(scores.mean()))"
   ]
  },
  {
   "cell_type": "markdown",
   "metadata": {},
   "source": [
    "## Programming Assignment"
   ]
  },
  {
   "cell_type": "markdown",
   "metadata": {},
   "source": [
    "#### Dataset and Sample Code"
   ]
  },
  {
   "cell_type": "markdown",
   "metadata": {},
   "source": [
    "In this assignment, you are given NBA Player Stats for 2020-2021 season (https://www.basketball-reference.com/leagues/NBA_2023_per_game.html)\n",
    "Your task is to classify NBA players into 5 positions on the basketball court: SG (shooting guard), PG (point guard), SF (small forward), PF (power forward), and C (center). You make the classification based on the players' per-game average performance in the 2020-2021 season. The dataset is in a CSV file \"NBAstats.csv\" that is provided to you. For loading CSV file and processing the data, we suggest you to use pandas. A sample program is provided to you above."
   ]
  },
  {
   "cell_type": "markdown",
   "metadata": {
    "collapsed": true
   },
   "source": [
    "#### Tasks\n",
    "\n",
    "Your tasks are as follows. In your code, set the random_state to 0. \n",
    "\n",
    "1) (30 points) Use one classification method (Decision Tree/Naive Bayes/KNN/SVM) on the dataset. You can apply any of the methods explained in this instruction notebook or any other method in scikit-learn. You can even implement your own method. You can tune your model by using any combination of parameter values. Use 75% of the data for training and the rest for testing. Print out the training and test set accuracy of the model.\n",
    "\n",
    "2) (20 points) Print out the confusion matrix for the model in 1). Note that we are dealing with a multi-class (5 basketball positions) classification problem. So the confusion matrix should be 5 x 5. (Actually 6 x 6 since we are also printing the numbers of \"All\". Refer to the earlier example.)\n",
    "\n",
    "3) (30 points) Use the same model with the same parameters you have chosen in 1). However, instead of using 75%/25% train/test split, apply 10-fold stratified cross-validation. Print out the accuracy of each fold. Print out the average accuracy across all the folds. \n",
    "\n",
    "4) (20 points) Documentation: Explain your method that lead to better accuracy, what ideas or observations helped you acheive better accuracy on the dataset?"
   ]
  },
  {
   "cell_type": "markdown",
   "metadata": {},
   "source": [
    "#### Canvas Submission\n",
    "You should submit a zip file that contains two files : \n",
    "\n",
    "1. a .py file (your code that shows the output for each of the tasks 1-5)\n",
    "\n",
    "2. a .txt file/.word file (your answer for each of the 4 questions)"
   ]
  },
  {
   "cell_type": "markdown",
   "metadata": {},
   "source": [
    "#### Grading and Tips\n",
    "\n",
    "For this assignment, the most important thing is to carefully read the instruction notebook and play with the code snippets. Once you understand the instructions and the code snippets, it won't be difficult to finish the tasks. \n",
    "\n",
    "Below are some thoughts on what might lead to better accuracy. Note that we haven't tried all these ideas. There is no promise they will help you. \n",
    "\n",
    "1) The features may not be all equally important. For instance, is 'Age' important for this classification task? Some of the features are redundant. For instance, field goal percentage (FG%) is defined by field goals made (FG) and field goal attempts (FGA): FG% = FG / FGA. It may not be beneficial to include all of them. \n",
    "\n",
    "Some domain knowledge might help you in choosing the features. To understand basketball stats, you can click \"Glossary\" on this page: https://www.basketball-reference.com/leagues/NBA_2021_per_game.html. You can read more about basketball stats: https://en.wikipedia.org/wiki/Basketball_statistics. \n",
    "\n",
    "Of course, it might be possible to devise a way to automatically choose features. \n",
    "\n",
    "2) It might be helpful to understand the classes, i.e., the 5 positions on court. You can read https://en.wikipedia.org/wiki/Basketball_positions. For instance, SG and PG players are more likely to have similar stats; PF and C can be also similar; some SFs are similar to SG/PG and some other SFs are similar to PF.  \n",
    "\n",
    "3) The original dataset has NULL values. For instance, if a player has never attempted a 3-pointer shot (i.e., 3PA=0), then of course he didn't make any 3-pointer shot either (i.e., 3P=0). The value of \"3P%\" was left blank in the original dataset. We replaced it by 0. Knowing this might be helpful. Similarly there can be NULL values in FG%, FT%, and so on. \n",
    "\n",
    "4) Keep in mind that stats of players with limited minutes played are less indicative of their true characteristics. You can expect your model to make more mistakes on bench players. For the same reason, we don't expect you to develop some model with 90% accuracy. (But who knows. You are excellent and maybe you can exceed the expectation.) \n",
    "\n",
    "5) If your method relies on a distance measure, you may consider writing your own distance function, based on your understanding of the data. For instance, KNeighborsClassifier allows you to call your own distance function. \n",
    "\n",
    "6) To figure out what parameters are available in the various classification methods, you can read more about the specifications of the corresponding Python classes: \n",
    "\n",
    "http://scikit-learn.org/stable/modules/generated/sklearn.neighbors.KNeighborsClassifier.html#sklearn.neighbors.KNeighborsClassifier\n",
    "\n",
    "http://scikit-learn.org/stable/modules/generated/sklearn.naive_bayes.GaussianNB.html#sklearn.naive_bayes.GaussianNB\n",
    "\n",
    "http://scikit-learn.org/stable/modules/generated/sklearn.svm.LinearSVC.html#sklearn.svm.LinearSVC\n",
    "\n",
    "http://scikit-learn.org/stable/modules/generated/sklearn.tree.DecisionTreeClassifier.html\n",
    "\n",
    "You can even read the following tutorials about these methods. \n",
    "\n",
    "http://scikit-learn.org/stable/modules/neighbors.html\n",
    "\n",
    "http://scikit-learn.org/stable/modules/naive_bayes.html\n",
    "\n",
    "http://scikit-learn.org/stable/modules/svm.html\n",
    "\n",
    "http://scikit-learn.org/stable/modules/tree.html"
   ]
  }
 ],
 "metadata": {
  "anaconda-cloud": {},
  "kernelspec": {
   "display_name": "Python 3 (ipykernel)",
   "language": "python",
   "name": "python3"
  },
  "language_info": {
   "codemirror_mode": {
    "name": "ipython",
    "version": 3
   },
   "file_extension": ".py",
   "mimetype": "text/x-python",
   "name": "python",
   "nbconvert_exporter": "python",
   "pygments_lexer": "ipython3",
   "version": "3.10.4"
  },
  "latex_metadata": {
   "author": "Chengkai Li",
   "title": "CSE4334 P2"
  }
 },
 "nbformat": 4,
 "nbformat_minor": 1
}
